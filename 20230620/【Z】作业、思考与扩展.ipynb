{
 "cells": [
  {
   "cell_type": "markdown",
   "id": "8d05e490-4339-4812-a85b-e311748d0645",
   "metadata": {},
   "source": [
    "# 作业、思考与扩展\n",
    "\n",
    "同济子豪兄 2023-6-20"
   ]
  },
  {
   "cell_type": "markdown",
   "id": "4f1862ed-3446-4026-afca-2cddbc2d370e",
   "metadata": {},
   "source": [
    "## 作业\n",
    "\n",
    "数据集：Kaggle CAPTCHA验证码：https://www.kaggle.com/datasets/fournierp/captcha-version-2-images\n",
    "\n",
    "任务：\n",
    "\n",
    "1. 将数据集转换为MMOCR支持的数据集\n",
    "\n",
    "2. 基于MMOCR训练文本识别算法\n",
    "\n",
    "3. 在测试集上评估算法性能\n",
    "\n",
    "4. 使用训练得到的模型，对测试集或新的验证码图片预测"
   ]
  },
  {
   "cell_type": "markdown",
   "id": "e940d03d-0bb6-4eec-aaae-ded4e629c562",
   "metadata": {},
   "source": [
    "## 思考题\n",
    "\n",
    "1. Kaggle上有哪些有趣的OCR数据集\n",
    "\n",
    "2. 你可以用OCR算法解决日常生活的哪些问题\n",
    "\n",
    "3. 文字区域检测算法有哪些，各有什么特点\n",
    "\n",
    "4. 文本识别算法有哪些，各有什么特点\n",
    "\n",
    "5. OCR有哪些难点和挑战\n",
    "\n",
    "6. 近几年来，OCR有什么发展趋势？"
   ]
  },
  {
   "cell_type": "code",
   "execution_count": null,
   "id": "b6a49159-0504-440c-a0f4-afdd136722cd",
   "metadata": {},
   "outputs": [],
   "source": []
  }
 ],
 "metadata": {
  "kernelspec": {
   "display_name": "Python 3 (ipykernel)",
   "language": "python",
   "name": "python3"
  },
  "language_info": {
   "codemirror_mode": {
    "name": "ipython",
    "version": 3
   },
   "file_extension": ".py",
   "mimetype": "text/x-python",
   "name": "python",
   "nbconvert_exporter": "python",
   "pygments_lexer": "ipython3",
   "version": "3.7.10"
  }
 },
 "nbformat": 4,
 "nbformat_minor": 5
}
