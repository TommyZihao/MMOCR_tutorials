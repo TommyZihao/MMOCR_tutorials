{
 "cells": [
  {
   "cell_type": "markdown",
   "id": "bc3d1961-9081-49c9-be56-ad0c748decf1",
   "metadata": {},
   "source": [
    "# 安装配置MMOCR"
   ]
  },
  {
   "cell_type": "markdown",
   "id": "0fc8ebd8-db6e-4a17-895f-2f87fc98ca79",
   "metadata": {},
   "source": [
    "按照顺序逐行运行本代码，即可安装配置 MMCV、MMOCR环境\n",
    "\n",
    "推荐代码运行[云GPU环境](https://featurize.cn?s=d7ce99f842414bfcaea5662a97581bd1)：GPU RTX 3060、CUDA v11.2\n",
    "\n",
    "作者：同济子豪兄 2023-6-20"
   ]
  },
  {
   "cell_type": "markdown",
   "id": "63d0dc47-4601-49a3-8d25-12b4d24fa6f0",
   "metadata": {},
   "source": [
    "> 提示：以下代码运行时，若长时间运行卡着不动，可重启 kernel 后重新运行一遍"
   ]
  },
  {
   "cell_type": "markdown",
   "id": "6fc1c686-1267-4503-b9e4-bcb188a7f974",
   "metadata": {
    "tags": []
   },
   "source": [
    "## 安装Pytorch"
   ]
  },
  {
   "cell_type": "code",
   "execution_count": 2,
   "id": "2fef57fc-d5f0-4cd0-a134-1f025c15439f",
   "metadata": {},
   "outputs": [],
   "source": [
    "# 安装Pytorch\n",
    "!pip3 install install torch==1.10.1+cu113 torchvision==0.11.2+cu113 torchaudio==0.10.1+cu113 -f https://download.pytorch.org/whl/cu113/torch_stable.html\n"
   ]
  },
  {
   "cell_type": "markdown",
   "id": "054b64e4-4796-4136-b45e-3664b281cf30",
   "metadata": {},
   "source": [
    "## 安装MIM"
   ]
  },
  {
   "cell_type": "code",
   "execution_count": 4,
   "id": "88bd1fb3-ed29-485a-8327-a55880e04258",
   "metadata": {},
   "outputs": [],
   "source": [
    "!pip install -U openmim"
   ]
  },
  {
   "cell_type": "markdown",
   "id": "38c55520-071b-41de-91f4-3ec78e16bf27",
   "metadata": {},
   "source": [
    "## 安装其它工具包"
   ]
  },
  {
   "cell_type": "code",
   "execution_count": 6,
   "id": "eb4b3373-f117-46a9-ab43-e67753eb7c61",
   "metadata": {},
   "outputs": [],
   "source": [
    "!pip install opencv-python pillow matplotlib seaborn tqdm -i https://pypi.tuna.tsinghua.edu.cn/simple\n"
   ]
  },
  {
   "cell_type": "markdown",
   "id": "0defb2f8-d5ab-4ee4-a66f-85cc17c221de",
   "metadata": {
    "tags": []
   },
   "source": [
    "## 下载 MMSegmentation"
   ]
  },
  {
   "cell_type": "code",
   "execution_count": 7,
   "id": "89026868-58b1-4755-aca3-ded98451e906",
   "metadata": {},
   "outputs": [],
   "source": [
    "# 删掉原有的 mmocr 文件夹（如有）\n",
    "!rm -rf mmocr"
   ]
  },
  {
   "cell_type": "code",
   "execution_count": 8,
   "id": "09c51fee-d040-46cf-8d86-c0248ab7fe84",
   "metadata": {},
   "outputs": [
    {
     "name": "stdout",
     "output_type": "stream",
     "text": [
      "正克隆到 'mmocr'...\n",
      "remote: Enumerating objects: 16277, done.\u001b[K\n",
      "remote: Counting objects: 100% (188/188), done.\u001b[K\n",
      "remote: Compressing objects: 100% (145/145), done.\u001b[K\n",
      "remote: Total 16277 (delta 56), reused 136 (delta 41), pack-reused 16089\u001b[K\n",
      "接收对象中: 100% (16277/16277), 16.23 MiB | 18.12 MiB/s, 完成.\n",
      "处理 delta 中: 100% (10663/10663), 完成.\n",
      "正在更新文件: 100% (974/974), 完成.\n"
     ]
    }
   ],
   "source": [
    "# 从 github 上下载最新的 mmocr 源代码\n",
    "!git clone https://github.com/open-mmlab/mmocr.git"
   ]
  },
  {
   "cell_type": "code",
   "execution_count": 9,
   "id": "b6a71270-f87b-4cf3-87f0-771f45f38c28",
   "metadata": {},
   "outputs": [],
   "source": [
    "# 进入主目录\n",
    "import os\n",
    "os.chdir('mmocr')"
   ]
  },
  {
   "cell_type": "markdown",
   "id": "f1cd1922-e20a-459a-bf45-e826d8245d88",
   "metadata": {},
   "source": [
    "## 安装 MMOCR"
   ]
  },
  {
   "cell_type": "code",
   "execution_count": 11,
   "id": "21e78bae-1d33-478d-8b72-5e8584f6cadf",
   "metadata": {},
   "outputs": [],
   "source": [
    "!mim install -e ."
   ]
  },
  {
   "cell_type": "markdown",
   "id": "a828bfe4-82e5-497a-9bda-cb9837df2cb3",
   "metadata": {},
   "source": [
    "## 下载预训练模型权重文件和视频素材"
   ]
  },
  {
   "cell_type": "code",
   "execution_count": 12,
   "id": "5aac1d0c-dbf5-478c-ab80-7e2aa0ab0f01",
   "metadata": {},
   "outputs": [],
   "source": [
    "import os\n",
    "\n",
    "# 创建 checkpoint 文件夹，用于存放预训练模型权重文件\n",
    "os.mkdir('checkpoint')\n",
    "\n",
    "# 创建 outputs 文件夹，用于存放预测结果\n",
    "os.mkdir('outputs')\n",
    "\n",
    "# 创建 data 文件夹，用于存放图片和视频素材\n",
    "os.mkdir('data')"
   ]
  },
  {
   "cell_type": "markdown",
   "id": "fa97e1da-f245-4d32-892d-dec07a6b2c16",
   "metadata": {},
   "source": [
    "## 检查安装成功"
   ]
  },
  {
   "cell_type": "code",
   "execution_count": 13,
   "id": "424fca02-13cc-493f-8833-ec63900f02d3",
   "metadata": {},
   "outputs": [
    {
     "name": "stdout",
     "output_type": "stream",
     "text": [
      "Pytorch 版本 1.10.1+cu113\n",
      "CUDA 是否可用 True\n"
     ]
    }
   ],
   "source": [
    "# 检查 Pytorch\n",
    "import torch, torchvision\n",
    "print('Pytorch 版本', torch.__version__)\n",
    "print('CUDA 是否可用',torch.cuda.is_available())"
   ]
  },
  {
   "cell_type": "code",
   "execution_count": 14,
   "id": "96a6e738-d9d3-4e9f-a053-15bf2f29d43b",
   "metadata": {},
   "outputs": [
    {
     "name": "stdout",
     "output_type": "stream",
     "text": [
      "MMCV版本 2.0.0\n",
      "CUDA版本 11.3\n",
      "编译器版本 GCC 9.3\n"
     ]
    }
   ],
   "source": [
    "# 检查 mmcv\n",
    "import mmcv\n",
    "from mmcv.ops import get_compiling_cuda_version, get_compiler_version\n",
    "print('MMCV版本', mmcv.__version__)\n",
    "print('CUDA版本', get_compiling_cuda_version())\n",
    "print('编译器版本', get_compiler_version())"
   ]
  },
  {
   "cell_type": "code",
   "execution_count": 15,
   "id": "dae8b28c-fa1f-4911-ba27-50ed745e9679",
   "metadata": {},
   "outputs": [
    {
     "name": "stdout",
     "output_type": "stream",
     "text": [
      "mmocr版本 1.0.0\n"
     ]
    }
   ],
   "source": [
    "# 检查 mmocr\n",
    "import mmocr\n",
    "print('mmocr版本', mmocr.__version__)"
   ]
  },
  {
   "cell_type": "markdown",
   "id": "6f89f196-6f70-46a5-9715-ee4755717c13",
   "metadata": {},
   "source": [
    "没有报错，即证明安装成功。"
   ]
  },
  {
   "cell_type": "code",
   "execution_count": null,
   "id": "79cf319a-244b-4363-ac8e-9b01a96728ed",
   "metadata": {},
   "outputs": [],
   "source": []
  }
 ],
 "metadata": {
  "kernelspec": {
   "display_name": "Python 3 (ipykernel)",
   "language": "python",
   "name": "python3"
  },
  "language_info": {
   "codemirror_mode": {
    "name": "ipython",
    "version": 3
   },
   "file_extension": ".py",
   "mimetype": "text/x-python",
   "name": "python",
   "nbconvert_exporter": "python",
   "pygments_lexer": "ipython3",
   "version": "3.7.10"
  }
 },
 "nbformat": 4,
 "nbformat_minor": 5
}
