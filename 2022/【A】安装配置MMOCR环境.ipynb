{
 "cells": [
  {
   "cell_type": "markdown",
   "id": "6f6795b1-872f-4d41-8e29-f1e15917ad8f",
   "metadata": {},
   "source": [
    "# 安装配置 MMOCR 环境\n",
    "\n",
    "按照顺序逐行运行本代码，即可安装配置 MMOCR 所需的所有环境。\n",
    "\n",
    "在以下GPU环境测试通过：GPU RTX 3060、CUDA v11.2"
   ]
  },
  {
   "cell_type": "markdown",
   "id": "12be19c1-7143-4530-9b69-e810e9920395",
   "metadata": {},
   "source": [
    "## MMOCR 简介\n",
    "\n",
    "<img src=\"https://zihao-download.obs.cn-east-3.myhuaweicloud.com/mmocr/mmocr-logo.png\" width ='300' alt=\"MMOCR LOGO\" align='center' />\n",
    "\n",
    "MMOCR 是 OpenMMLab 开源人工智能算法体系的OCR算法库，专注于文本检测，文本识别、关键信息提取、命名实体识别等光学字符识别 OCR 任务。\n",
    "\n",
    "MMOCR 主页：https://github.com/open-mmlab/mmocr\n",
    "\n",
    "OpenMMLab 主页：https://openmmlab.com/"
   ]
  },
  {
   "cell_type": "markdown",
   "id": "43e4aa69-bee5-4688-b823-26c81571db5a",
   "metadata": {},
   "source": [
    "> 提示：以下代码运行时，若长时间运行卡着不动，可重启 kernel 后重新运行一遍"
   ]
  },
  {
   "cell_type": "markdown",
   "id": "6fc1c686-1267-4503-b9e4-bcb188a7f974",
   "metadata": {
    "tags": []
   },
   "source": [
    "## 下载安装 PyTorch、mmcv-full"
   ]
  },
  {
   "cell_type": "code",
   "execution_count": 1,
   "id": "09ec33c2-5d5e-45b3-95e1-7d87dac29820",
   "metadata": {},
   "outputs": [
    {
     "name": "stdout",
     "output_type": "stream",
     "text": [
      "Looking in indexes: https://pypi.tuna.tsinghua.edu.cn/simple\n",
      "Looking in links: https://download.pytorch.org/whl/cu113/torch_stable.html\n",
      "Collecting install\n",
      "  Downloading https://pypi.tuna.tsinghua.edu.cn/packages/4d/c8/8cbca135f9e167810756ea2bc34b028501936675fcbd7dadccf752fa4622/install-1.3.5-py3-none-any.whl (3.2 kB)\n",
      "Collecting torch==1.10.1+cu113\n",
      "  Downloading https://download.pytorch.org/whl/cu113/torch-1.10.1%2Bcu113-cp37-cp37m-linux_x86_64.whl (1821.5 MB)\n",
      "\u001b[K     |██████████▊                     | 610.3 MB 99.4 MB/s eta 0:00:134��████                      | 564.4 MB 99.4 MB/s eta 0:00:13"
     ]
    },
    {
     "name": "stderr",
     "output_type": "stream",
     "text": [
      "IOPub data rate exceeded.\n",
      "The Jupyter server will temporarily stop sending output\n",
      "to the client in order to avoid crashing it.\n",
      "To change this limit, set the config variable\n",
      "`--ServerApp.iopub_data_rate_limit`.\n",
      "\n",
      "Current values:\n",
      "ServerApp.iopub_data_rate_limit=1000000.0 (bytes/sec)\n",
      "ServerApp.rate_limit_window=3.0 (secs)\n",
      "\n"
     ]
    },
    {
     "name": "stdout",
     "output_type": "stream",
     "text": [
      "\u001b[K     |█████████████████               | 961.5 MB 124.1 MB/s eta 0:00:07"
     ]
    },
    {
     "name": "stderr",
     "output_type": "stream",
     "text": [
      "IOPub data rate exceeded.\n",
      "The Jupyter server will temporarily stop sending output\n",
      "to the client in order to avoid crashing it.\n",
      "To change this limit, set the config variable\n",
      "`--ServerApp.iopub_data_rate_limit`.\n",
      "\n",
      "Current values:\n",
      "ServerApp.iopub_data_rate_limit=1000000.0 (bytes/sec)\n",
      "ServerApp.rate_limit_window=3.0 (secs)\n",
      "\n"
     ]
    },
    {
     "name": "stdout",
     "output_type": "stream",
     "text": [
      "\u001b[K     |███████████████████████▍        | 1328.7 MB 107.2 MB/s eta 0:00:05"
     ]
    },
    {
     "name": "stderr",
     "output_type": "stream",
     "text": [
      "IOPub data rate exceeded.\n",
      "The Jupyter server will temporarily stop sending output\n",
      "to the client in order to avoid crashing it.\n",
      "To change this limit, set the config variable\n",
      "`--ServerApp.iopub_data_rate_limit`.\n",
      "\n",
      "Current values:\n",
      "ServerApp.iopub_data_rate_limit=1000000.0 (bytes/sec)\n",
      "ServerApp.rate_limit_window=3.0 (secs)\n",
      "\n"
     ]
    },
    {
     "name": "stdout",
     "output_type": "stream",
     "text": [
      "\u001b[K     |█████████████████████████████▊  | 1689.9 MB 128.7 MB/s eta 0:00:02"
     ]
    },
    {
     "name": "stderr",
     "output_type": "stream",
     "text": [
      "IOPub data rate exceeded.\n",
      "The Jupyter server will temporarily stop sending output\n",
      "to the client in order to avoid crashing it.\n",
      "To change this limit, set the config variable\n",
      "`--ServerApp.iopub_data_rate_limit`.\n",
      "\n",
      "Current values:\n",
      "ServerApp.iopub_data_rate_limit=1000000.0 (bytes/sec)\n",
      "ServerApp.rate_limit_window=3.0 (secs)\n",
      "\n"
     ]
    },
    {
     "name": "stdout",
     "output_type": "stream",
     "text": [
      "\u001b[K     |████████████████████████████████| 1821.5 MB 121.9 MB/s eta 0:00:01\n",
      "\u001b[?25hCollecting torchvision==0.11.2+cu113\n",
      "  Downloading https://download.pytorch.org/whl/cu113/torchvision-0.11.2%2Bcu113-cp37-cp37m-linux_x86_64.whl (24.6 MB)\n",
      "\u001b[K     |████████████████████████████████| 24.6 MB 78.5 MB/s eta 0:00:01\n",
      "\u001b[?25hCollecting torchaudio==0.10.1+cu113\n",
      "  Downloading https://download.pytorch.org/whl/cu113/torchaudio-0.10.1%2Bcu113-cp37-cp37m-linux_x86_64.whl (2.9 MB)\n",
      "\u001b[K     |████████████████████████████████| 2.9 MB 97.1 MB/s eta 0:00:01\n",
      "\u001b[?25hRequirement already satisfied: typing-extensions in /environment/miniconda3/lib/python3.7/site-packages (from torch==1.10.1+cu113) (4.0.1)\n",
      "Requirement already satisfied: pillow!=8.3.0,>=5.3.0 in /environment/miniconda3/lib/python3.7/site-packages (from torchvision==0.11.2+cu113) (8.4.0)\n",
      "Requirement already satisfied: numpy in /environment/miniconda3/lib/python3.7/site-packages (from torchvision==0.11.2+cu113) (1.21.4)\n",
      "Installing collected packages: torch, torchvision, torchaudio, install\n",
      "  Attempting uninstall: torch\n",
      "    Found existing installation: torch 1.10.0+cu113\n",
      "    Uninstalling torch-1.10.0+cu113:\n",
      "      Successfully uninstalled torch-1.10.0+cu113\n",
      "  Attempting uninstall: torchvision\n",
      "    Found existing installation: torchvision 0.11.1+cu113\n",
      "    Uninstalling torchvision-0.11.1+cu113:\n",
      "      Successfully uninstalled torchvision-0.11.1+cu113\n",
      "  Attempting uninstall: torchaudio\n",
      "    Found existing installation: torchaudio 0.10.0+cu113\n",
      "    Uninstalling torchaudio-0.10.0+cu113:\n",
      "      Successfully uninstalled torchaudio-0.10.0+cu113\n",
      "Successfully installed install-1.3.5 torch-1.10.1+cu113 torchaudio-0.10.1+cu113 torchvision-0.11.2+cu113\n"
     ]
    }
   ],
   "source": [
    "# 安装 Pytorch\n",
    "!pip3 install install torch==1.10.1+cu113 torchvision==0.11.2+cu113 torchaudio==0.10.1+cu113 -f https://download.pytorch.org/whl/cu113/torch_stable.html"
   ]
  },
  {
   "cell_type": "code",
   "execution_count": 1,
   "id": "2fef57fc-d5f0-4cd0-a134-1f025c15439f",
   "metadata": {},
   "outputs": [
    {
     "name": "stdout",
     "output_type": "stream",
     "text": [
      "Looking in indexes: https://pypi.tuna.tsinghua.edu.cn/simple\n",
      "Looking in links: https://download.openmmlab.com/mmcv/dist/cu113/torch1.10.0/index.html\n",
      "Collecting mmcv-full\n",
      "  Downloading https://download.openmmlab.com/mmcv/dist/cu113/torch1.10.0/mmcv_full-1.4.7-cp37-cp37m-manylinux1_x86_64.whl (47.7 MB)\n",
      "\u001b[K     |████████████████████████████████| 47.7 MB 69.7 MB/s eta 0:00:01\n",
      "\u001b[?25hRequirement already satisfied: opencv-python>=3 in /environment/miniconda3/lib/python3.7/site-packages (from mmcv-full) (4.5.4.60)\n",
      "Requirement already satisfied: Pillow in /environment/miniconda3/lib/python3.7/site-packages (from mmcv-full) (8.4.0)\n",
      "Requirement already satisfied: yapf in /environment/miniconda3/lib/python3.7/site-packages (from mmcv-full) (0.31.0)\n",
      "Requirement already satisfied: pyyaml in /environment/miniconda3/lib/python3.7/site-packages (from mmcv-full) (6.0)\n",
      "Collecting addict\n",
      "  Downloading https://pypi.tuna.tsinghua.edu.cn/packages/6a/00/b08f23b7d7e1e14ce01419a467b583edbb93c6cdb8654e54a9cc579cd61f/addict-2.4.0-py3-none-any.whl (3.8 kB)\n",
      "Requirement already satisfied: numpy in /environment/miniconda3/lib/python3.7/site-packages (from mmcv-full) (1.21.4)\n",
      "Requirement already satisfied: packaging in /environment/miniconda3/lib/python3.7/site-packages (from mmcv-full) (21.3)\n",
      "Requirement already satisfied: pyparsing!=3.0.5,>=2.0.2 in /environment/miniconda3/lib/python3.7/site-packages (from packaging->mmcv-full) (3.0.6)\n",
      "Installing collected packages: addict, mmcv-full\n",
      "Successfully installed addict-2.4.0 mmcv-full-1.4.7\n"
     ]
    }
   ],
   "source": [
    "# 安装 mmcv-full\n",
    "!pip install mmcv-full -f https://download.openmmlab.com/mmcv/dist/cu113/torch1.10.0/index.html"
   ]
  },
  {
   "cell_type": "markdown",
   "id": "5fc7c751-1d11-4952-be3f-17236a8a58cf",
   "metadata": {},
   "source": [
    "## 安装其它工具包(大约需要一分钟)"
   ]
  },
  {
   "cell_type": "code",
   "execution_count": 2,
   "id": "afbaa63e-e448-4402-8d30-072ada7c0aa2",
   "metadata": {},
   "outputs": [
    {
     "name": "stdout",
     "output_type": "stream",
     "text": [
      "Looking in indexes: https://pypi.tuna.tsinghua.edu.cn/simple\n",
      "Collecting mmdet\n",
      "  Downloading https://pypi.tuna.tsinghua.edu.cn/packages/66/61/0e03c564c04d3d84a2d4f6e218c1fa287e61955322dcaa943f66ec4fbae9/mmdet-2.22.0-py3-none-any.whl (1.3 MB)\n",
      "\u001b[K     |████████████████████████████████| 1.3 MB 55.9 MB/s eta 0:00:01\n",
      "\u001b[?25hRequirement already satisfied: numpy in /environment/miniconda3/lib/python3.7/site-packages (from mmdet) (1.21.4)\n",
      "Collecting pycocotools\n",
      "  Downloading https://pypi.tuna.tsinghua.edu.cn/packages/75/5c/ac61ea715d7a89ecc31c090753bde28810238225ca8b71778dfe3e6a68bc/pycocotools-2.0.4.tar.gz (106 kB)\n",
      "\u001b[K     |████████████████████████████████| 106 kB 85.9 MB/s eta 0:00:01\n",
      "\u001b[?25h  Installing build dependencies ... \u001b[?25ldone\n",
      "\u001b[?25h  Getting requirements to build wheel ... \u001b[?25ldone\n",
      "\u001b[?25h    Preparing wheel metadata ... \u001b[?25ldone\n",
      "\u001b[?25hRequirement already satisfied: six in /environment/miniconda3/lib/python3.7/site-packages (from mmdet) (1.16.0)\n",
      "Requirement already satisfied: matplotlib in /environment/miniconda3/lib/python3.7/site-packages (from mmdet) (3.5.0)\n",
      "Collecting terminaltables\n",
      "  Downloading https://pypi.tuna.tsinghua.edu.cn/packages/c4/fb/ea621e0a19733e01fe4005d46087d383693c0f4a8f824b47d8d4122c87e0/terminaltables-3.1.10-py2.py3-none-any.whl (15 kB)\n",
      "Requirement already satisfied: kiwisolver>=1.0.1 in /environment/miniconda3/lib/python3.7/site-packages (from matplotlib->mmdet) (1.3.2)\n",
      "Requirement already satisfied: fonttools>=4.22.0 in /environment/miniconda3/lib/python3.7/site-packages (from matplotlib->mmdet) (4.28.3)\n",
      "Requirement already satisfied: cycler>=0.10 in /environment/miniconda3/lib/python3.7/site-packages (from matplotlib->mmdet) (0.11.0)\n",
      "Requirement already satisfied: pillow>=6.2.0 in /environment/miniconda3/lib/python3.7/site-packages (from matplotlib->mmdet) (8.4.0)\n",
      "Requirement already satisfied: setuptools-scm>=4 in /environment/miniconda3/lib/python3.7/site-packages (from matplotlib->mmdet) (6.3.2)\n",
      "Requirement already satisfied: pyparsing>=2.2.1 in /environment/miniconda3/lib/python3.7/site-packages (from matplotlib->mmdet) (3.0.6)\n",
      "Requirement already satisfied: python-dateutil>=2.7 in /environment/miniconda3/lib/python3.7/site-packages (from matplotlib->mmdet) (2.8.2)\n",
      "Requirement already satisfied: packaging>=20.0 in /environment/miniconda3/lib/python3.7/site-packages (from matplotlib->mmdet) (21.3)\n",
      "Requirement already satisfied: tomli>=1.0.0 in /environment/miniconda3/lib/python3.7/site-packages (from setuptools-scm>=4->matplotlib->mmdet) (1.2.2)\n",
      "Requirement already satisfied: setuptools in /environment/miniconda3/lib/python3.7/site-packages (from setuptools-scm>=4->matplotlib->mmdet) (52.0.0.post20210125)\n",
      "Building wheels for collected packages: pycocotools\n",
      "  Building wheel for pycocotools (PEP 517) ... \u001b[?25ldone\n",
      "\u001b[?25h  Created wheel for pycocotools: filename=pycocotools-2.0.4-cp37-cp37m-linux_x86_64.whl size=370222 sha256=bb0c3f5e457cddc15c1601e8c2a9f278f1ad44f1def803ff06fc8b150efea632\n",
      "  Stored in directory: /home/featurize/.cache/pip/wheels/c0/01/5f/670dfd20204fc9cc6bf843db4e014acb998f411922e3abc49f\n",
      "Successfully built pycocotools\n",
      "Installing collected packages: terminaltables, pycocotools, mmdet\n",
      "Successfully installed mmdet-2.22.0 pycocotools-2.0.4 terminaltables-3.1.10\n",
      "Looking in indexes: https://pypi.tuna.tsinghua.edu.cn/simple\n",
      "Requirement already satisfied: tqdm in /environment/miniconda3/lib/python3.7/site-packages (4.61.2)\n",
      "Requirement already satisfied: matplotlib in /environment/miniconda3/lib/python3.7/site-packages (3.5.0)\n",
      "Requirement already satisfied: numpy in /environment/miniconda3/lib/python3.7/site-packages (1.21.4)\n",
      "Requirement already satisfied: opencv-python in /environment/miniconda3/lib/python3.7/site-packages (4.5.4.60)\n",
      "Requirement already satisfied: pillow>=6.2.0 in /environment/miniconda3/lib/python3.7/site-packages (from matplotlib) (8.4.0)\n",
      "Requirement already satisfied: kiwisolver>=1.0.1 in /environment/miniconda3/lib/python3.7/site-packages (from matplotlib) (1.3.2)\n",
      "Requirement already satisfied: python-dateutil>=2.7 in /environment/miniconda3/lib/python3.7/site-packages (from matplotlib) (2.8.2)\n",
      "Requirement already satisfied: fonttools>=4.22.0 in /environment/miniconda3/lib/python3.7/site-packages (from matplotlib) (4.28.3)\n",
      "Requirement already satisfied: setuptools-scm>=4 in /environment/miniconda3/lib/python3.7/site-packages (from matplotlib) (6.3.2)\n",
      "Requirement already satisfied: pyparsing>=2.2.1 in /environment/miniconda3/lib/python3.7/site-packages (from matplotlib) (3.0.6)\n",
      "Requirement already satisfied: packaging>=20.0 in /environment/miniconda3/lib/python3.7/site-packages (from matplotlib) (21.3)\n",
      "Requirement already satisfied: cycler>=0.10 in /environment/miniconda3/lib/python3.7/site-packages (from matplotlib) (0.11.0)\n",
      "Requirement already satisfied: six>=1.5 in /environment/miniconda3/lib/python3.7/site-packages (from python-dateutil>=2.7->matplotlib) (1.16.0)\n",
      "Requirement already satisfied: setuptools in /environment/miniconda3/lib/python3.7/site-packages (from setuptools-scm>=4->matplotlib) (52.0.0.post20210125)\n",
      "Requirement already satisfied: tomli>=1.0.0 in /environment/miniconda3/lib/python3.7/site-packages (from setuptools-scm>=4->matplotlib) (1.2.2)\n"
     ]
    }
   ],
   "source": [
    "# 安装 mmdet\n",
    "!pip install mmdet -i https://pypi.tuna.tsinghua.edu.cn/simple\n",
    "\n",
    "# 安装其它工具包\n",
    "!pip install tqdm matplotlib numpy opencv-python -i https://pypi.tuna.tsinghua.edu.cn/simple"
   ]
  },
  {
   "cell_type": "markdown",
   "id": "81b9def2-c3cf-4669-84a7-5c5f6bf62353",
   "metadata": {},
   "source": [
    "## 下载 MMOCR"
   ]
  },
  {
   "cell_type": "code",
   "execution_count": 3,
   "id": "e559186a-9f59-475d-bbdd-c9af279ef665",
   "metadata": {},
   "outputs": [],
   "source": [
    "# 删掉原有的 mmocr 文件夹（如有）\n",
    "!rm -rf mmocr"
   ]
  },
  {
   "cell_type": "code",
   "execution_count": 4,
   "id": "43b065d8-1e06-4cd0-be9b-8d426b564d93",
   "metadata": {},
   "outputs": [
    {
     "name": "stdout",
     "output_type": "stream",
     "text": [
      "Cloning into 'mmocr'...\n",
      "remote: Enumerating objects: 5735, done.\u001b[K\n",
      "remote: Counting objects: 100% (5735/5735), done.\u001b[K\n",
      "remote: Compressing objects: 100% (2232/2232), done.\u001b[K\n",
      "remote: Total 5735 (delta 3550), reused 5346 (delta 3404), pack-reused 0\u001b[K\n",
      "Receiving objects: 100% (5735/5735), 12.67 MiB | 17.21 MiB/s, done.\n",
      "Resolving deltas: 100% (3550/3550), done.\n"
     ]
    }
   ],
   "source": [
    "# 从 github 上下载最新的 mmocr 源代码\n",
    "!git clone https://github.com/open-mmlab/mmocr.git"
   ]
  },
  {
   "cell_type": "markdown",
   "id": "aff3a380-bb29-4254-9729-6eef306205ca",
   "metadata": {},
   "source": [
    "## 安装 MMOCR 依赖包（大约需要2分钟）"
   ]
  },
  {
   "cell_type": "code",
   "execution_count": 1,
   "id": "68fe4726-8a31-45b8-9c50-a36bdf6b98f9",
   "metadata": {},
   "outputs": [],
   "source": [
    "# 进入 mmocr 主目录\n",
    "import os\n",
    "os.chdir('mmocr')"
   ]
  },
  {
   "cell_type": "code",
   "execution_count": 2,
   "id": "26f03427-9f39-489b-942e-a25c4a10e9d9",
   "metadata": {},
   "outputs": [
    {
     "name": "stdout",
     "output_type": "stream",
     "text": [
      "Looking in indexes: https://pypi.tuna.tsinghua.edu.cn/simple\n",
      "Requirement already satisfied: numpy in /environment/miniconda3/lib/python3.7/site-packages (from -r requirements/build.txt (line 2)) (1.21.4)\n",
      "Requirement already satisfied: pyclipper in /environment/miniconda3/lib/python3.7/site-packages (from -r requirements/build.txt (line 3)) (1.3.0.post2)\n",
      "Requirement already satisfied: torch>=1.1 in /environment/miniconda3/lib/python3.7/site-packages (from -r requirements/build.txt (line 4)) (1.10.1+cu113)\n",
      "Requirement already satisfied: albumentations>=1.1.0 in /environment/miniconda3/lib/python3.7/site-packages (from -r requirements/optional.txt (line 1)) (1.1.0)\n",
      "Collecting imgaug\n",
      "  Downloading https://pypi.tuna.tsinghua.edu.cn/packages/66/b1/af3142c4a85cba6da9f4ebb5ff4e21e2616309552caca5e8acefe9840622/imgaug-0.4.0-py2.py3-none-any.whl (948 kB)\n",
      "\u001b[K     |████████████████████████████████| 948 kB 85.4 MB/s eta 0:00:01\n",
      "\u001b[?25hCollecting lanms-neo==1.0.2\n",
      "  Using cached lanms_neo-1.0.2-cp37-cp37m-linux_x86_64.whl\n",
      "Collecting lmdb\n",
      "  Downloading https://pypi.tuna.tsinghua.edu.cn/packages/4d/cf/3230b1c9b0bec406abb85a9332ba5805bdd03a1d24025c6bbcfb8ed71539/lmdb-1.3.0-cp37-cp37m-manylinux_2_12_x86_64.manylinux2010_x86_64.whl (298 kB)\n",
      "\u001b[K     |████████████████████████████████| 298 kB 91.8 MB/s eta 0:00:01\n",
      "\u001b[?25hRequirement already satisfied: matplotlib in /environment/miniconda3/lib/python3.7/site-packages (from -r requirements/runtime.txt (line 4)) (3.5.0)\n",
      "Requirement already satisfied: numba>=0.45.1 in /environment/miniconda3/lib/python3.7/site-packages (from -r requirements/runtime.txt (line 5)) (0.55.1)\n",
      "Requirement already satisfied: opencv-python-headless<=4.5.4.60 in /environment/miniconda3/lib/python3.7/site-packages (from -r requirements/runtime.txt (line 7)) (4.5.4.60)\n",
      "Requirement already satisfied: pycocotools<=2.0.2 in /environment/miniconda3/lib/python3.7/site-packages (from -r requirements/runtime.txt (line 9)) (2.0.2)\n",
      "Requirement already satisfied: rapidfuzz in /environment/miniconda3/lib/python3.7/site-packages (from -r requirements/runtime.txt (line 10)) (2.0.7)\n",
      "Requirement already satisfied: scikit-image in /environment/miniconda3/lib/python3.7/site-packages (from -r requirements/runtime.txt (line 11)) (0.19.0)\n",
      "Requirement already satisfied: six in /environment/miniconda3/lib/python3.7/site-packages (from -r requirements/runtime.txt (line 12)) (1.16.0)\n",
      "Requirement already satisfied: terminaltables in /environment/miniconda3/lib/python3.7/site-packages (from -r requirements/runtime.txt (line 13)) (3.1.10)\n",
      "Collecting asynctest\n",
      "  Downloading https://pypi.tuna.tsinghua.edu.cn/packages/e8/b6/8d17e169d577ca7678b11cd0d3ceebb0a6089a7f4a2de4b945fe4b1c86db/asynctest-0.13.0-py3-none-any.whl (26 kB)\n",
      "Collecting codecov\n",
      "  Downloading https://pypi.tuna.tsinghua.edu.cn/packages/dc/e2/964d0881eff5a67bf5ddaea79a13c7b34a74bc4efe917b368830b475a0b9/codecov-2.1.12-py2.py3-none-any.whl (16 kB)\n",
      "Requirement already satisfied: flake8 in /environment/miniconda3/lib/python3.7/site-packages (from -r requirements/tests.txt (line 3)) (3.8.4)\n",
      "Requirement already satisfied: isort in /environment/miniconda3/lib/python3.7/site-packages (from -r requirements/tests.txt (line 4)) (5.10.1)\n",
      "Collecting kwarray\n",
      "  Downloading https://pypi.tuna.tsinghua.edu.cn/packages/fe/98/c0f7fd592291ffa585ee2eb9d19fbee71fc68505cd3c3fde4ef4355a111f/kwarray-0.6.0-py3-none-any.whl (78 kB)\n",
      "\u001b[K     |████████████████████████████████| 78 kB 72.0 MB/s eta 0:00:01\n",
      "\u001b[?25hCollecting pytest\n",
      "  Downloading https://pypi.tuna.tsinghua.edu.cn/packages/d2/ac/556e4410326ce77eeb1d1ec35a3e3ec847fb3e5cb30673729d2eeeffc970/pytest-7.1.1-py3-none-any.whl (297 kB)\n",
      "\u001b[K     |████████████████████████████████| 297 kB 87.2 MB/s eta 0:00:01\n",
      "\u001b[?25hCollecting pytest-cov\n",
      "  Downloading https://pypi.tuna.tsinghua.edu.cn/packages/20/49/b3e0edec68d81846f519c602ac38af9db86e1e71275528b3e814ae236063/pytest_cov-3.0.0-py3-none-any.whl (20 kB)\n",
      "Collecting pytest-runner\n",
      "  Downloading https://pypi.tuna.tsinghua.edu.cn/packages/42/7b/1cec26caae4bf44bb9911e1119d5d1a35171571e100b728a2ccd8719a3b1/pytest_runner-6.0.0-py3-none-any.whl (7.2 kB)\n",
      "Collecting ubelt\n",
      "  Downloading https://pypi.tuna.tsinghua.edu.cn/packages/d5/64/57f3df6a72d2126e3507c1ae6b705293261335da5ac96c2b8b74f97a9440/ubelt-1.0.1-py3-none-any.whl (151 kB)\n",
      "\u001b[K     |████████████████████████████████| 151 kB 73.1 MB/s eta 0:00:01\n",
      "\u001b[?25hCollecting xdoctest>=0.10.0\n",
      "  Downloading https://pypi.tuna.tsinghua.edu.cn/packages/5e/c0/f134451c51fd98bf35b9f92ea6a86599dac8b47cfc29e61ec4e4aae39019/xdoctest-1.0.0-py3-none-any.whl (117 kB)\n",
      "\u001b[K     |████████████████████████████████| 117 kB 83.4 MB/s eta 0:00:01\n",
      "\u001b[?25hRequirement already satisfied: yapf in /environment/miniconda3/lib/python3.7/site-packages (from -r requirements/tests.txt (line 12)) (0.31.0)\n",
      "Requirement already satisfied: typing-extensions in /environment/miniconda3/lib/python3.7/site-packages (from torch>=1.1->-r requirements/build.txt (line 4)) (4.0.1)\n",
      "Requirement already satisfied: qudida>=0.0.4 in /environment/miniconda3/lib/python3.7/site-packages (from albumentations>=1.1.0->-r requirements/optional.txt (line 1)) (0.0.4)\n",
      "Requirement already satisfied: scipy in /environment/miniconda3/lib/python3.7/site-packages (from albumentations>=1.1.0->-r requirements/optional.txt (line 1)) (1.7.3)\n",
      "Requirement already satisfied: PyYAML in /environment/miniconda3/lib/python3.7/site-packages (from albumentations>=1.1.0->-r requirements/optional.txt (line 1)) (6.0)\n",
      "Requirement already satisfied: llvmlite<0.39,>=0.38.0rc1 in /environment/miniconda3/lib/python3.7/site-packages (from numba>=0.45.1->-r requirements/runtime.txt (line 5)) (0.38.0)\n",
      "Requirement already satisfied: setuptools in /environment/miniconda3/lib/python3.7/site-packages (from numba>=0.45.1->-r requirements/runtime.txt (line 5)) (52.0.0.post20210125)\n",
      "Requirement already satisfied: cython>=0.27.3 in /environment/miniconda3/lib/python3.7/site-packages (from pycocotools<=2.0.2->-r requirements/runtime.txt (line 9)) (0.29.28)\n",
      "Requirement already satisfied: kiwisolver>=1.0.1 in /environment/miniconda3/lib/python3.7/site-packages (from matplotlib->-r requirements/runtime.txt (line 4)) (1.3.2)\n",
      "Requirement already satisfied: packaging>=20.0 in /environment/miniconda3/lib/python3.7/site-packages (from matplotlib->-r requirements/runtime.txt (line 4)) (21.3)\n",
      "Requirement already satisfied: pillow>=6.2.0 in /environment/miniconda3/lib/python3.7/site-packages (from matplotlib->-r requirements/runtime.txt (line 4)) (8.4.0)\n",
      "Requirement already satisfied: setuptools-scm>=4 in /environment/miniconda3/lib/python3.7/site-packages (from matplotlib->-r requirements/runtime.txt (line 4)) (6.3.2)\n",
      "Requirement already satisfied: python-dateutil>=2.7 in /environment/miniconda3/lib/python3.7/site-packages (from matplotlib->-r requirements/runtime.txt (line 4)) (2.8.2)\n",
      "Requirement already satisfied: pyparsing>=2.2.1 in /environment/miniconda3/lib/python3.7/site-packages (from matplotlib->-r requirements/runtime.txt (line 4)) (3.0.6)\n",
      "Requirement already satisfied: cycler>=0.10 in /environment/miniconda3/lib/python3.7/site-packages (from matplotlib->-r requirements/runtime.txt (line 4)) (0.11.0)\n",
      "Requirement already satisfied: fonttools>=4.22.0 in /environment/miniconda3/lib/python3.7/site-packages (from matplotlib->-r requirements/runtime.txt (line 4)) (4.28.3)\n",
      "Requirement already satisfied: imageio>=2.4.1 in /environment/miniconda3/lib/python3.7/site-packages (from scikit-image->-r requirements/runtime.txt (line 11)) (2.13.3)\n",
      "Requirement already satisfied: networkx>=2.2 in /environment/miniconda3/lib/python3.7/site-packages (from scikit-image->-r requirements/runtime.txt (line 11)) (2.6.3)\n",
      "Requirement already satisfied: tifffile>=2019.7.26 in /environment/miniconda3/lib/python3.7/site-packages (from scikit-image->-r requirements/runtime.txt (line 11)) (2021.11.2)\n",
      "Requirement already satisfied: PyWavelets>=1.1.1 in /environment/miniconda3/lib/python3.7/site-packages (from scikit-image->-r requirements/runtime.txt (line 11)) (1.2.0)\n",
      "Requirement already satisfied: scikit-learn>=0.19.1 in /environment/miniconda3/lib/python3.7/site-packages (from qudida>=0.0.4->albumentations>=1.1.0->-r requirements/optional.txt (line 1)) (1.0.1)\n",
      "Requirement already satisfied: threadpoolctl>=2.0.0 in /environment/miniconda3/lib/python3.7/site-packages (from scikit-learn>=0.19.1->qudida>=0.0.4->albumentations>=1.1.0->-r requirements/optional.txt (line 1)) (3.0.0)\n",
      "Requirement already satisfied: joblib>=0.11 in /environment/miniconda3/lib/python3.7/site-packages (from scikit-learn>=0.19.1->qudida>=0.0.4->albumentations>=1.1.0->-r requirements/optional.txt (line 1)) (1.1.0)\n",
      "Requirement already satisfied: tomli>=1.0.0 in /environment/miniconda3/lib/python3.7/site-packages (from setuptools-scm>=4->matplotlib->-r requirements/runtime.txt (line 4)) (1.2.2)\n",
      "Requirement already satisfied: opencv-python in /environment/miniconda3/lib/python3.7/site-packages (from imgaug->-r requirements/runtime.txt (line 1)) (4.5.4.60)\n",
      "Requirement already satisfied: Shapely in /environment/miniconda3/lib/python3.7/site-packages (from imgaug->-r requirements/runtime.txt (line 1)) (1.8.1.post1)\n",
      "Requirement already satisfied: jarowinkler<1.1.0,>=1.0.2 in /environment/miniconda3/lib/python3.7/site-packages (from rapidfuzz->-r requirements/runtime.txt (line 10)) (1.0.2)\n",
      "Requirement already satisfied: requests>=2.7.9 in /environment/miniconda3/lib/python3.7/site-packages (from codecov->-r requirements/tests.txt (line 2)) (2.24.0)\n",
      "Collecting coverage\n",
      "  Downloading https://pypi.tuna.tsinghua.edu.cn/packages/a6/42/286654245c1770af4c6a9c05a8b5190a4b09235a09837032cb32492e7df6/coverage-6.3.2-cp37-cp37m-manylinux_2_5_x86_64.manylinux1_x86_64.manylinux_2_17_x86_64.manylinux2014_x86_64.whl (207 kB)\n",
      "\u001b[K     |████████████████████████████████| 207 kB 77.3 MB/s eta 0:00:01\n",
      "\u001b[?25hRequirement already satisfied: idna<3,>=2.5 in /environment/miniconda3/lib/python3.7/site-packages (from requests>=2.7.9->codecov->-r requirements/tests.txt (line 2)) (2.10)\n",
      "Requirement already satisfied: urllib3!=1.25.0,!=1.25.1,<1.26,>=1.21.1 in /environment/miniconda3/lib/python3.7/site-packages (from requests>=2.7.9->codecov->-r requirements/tests.txt (line 2)) (1.25.11)\n",
      "Requirement already satisfied: certifi>=2017.4.17 in /environment/miniconda3/lib/python3.7/site-packages (from requests>=2.7.9->codecov->-r requirements/tests.txt (line 2)) (2021.5.30)\n",
      "Requirement already satisfied: chardet<4,>=3.0.2 in /environment/miniconda3/lib/python3.7/site-packages (from requests>=2.7.9->codecov->-r requirements/tests.txt (line 2)) (3.0.4)\n",
      "Requirement already satisfied: importlib-metadata in /environment/miniconda3/lib/python3.7/site-packages (from flake8->-r requirements/tests.txt (line 3)) (4.8.2)\n",
      "Requirement already satisfied: pyflakes<2.3.0,>=2.2.0 in /environment/miniconda3/lib/python3.7/site-packages (from flake8->-r requirements/tests.txt (line 3)) (2.2.0)\n",
      "Requirement already satisfied: pycodestyle<2.7.0,>=2.6.0a1 in /environment/miniconda3/lib/python3.7/site-packages (from flake8->-r requirements/tests.txt (line 3)) (2.6.0)\n",
      "Requirement already satisfied: mccabe<0.7.0,>=0.6.0 in /environment/miniconda3/lib/python3.7/site-packages (from flake8->-r requirements/tests.txt (line 3)) (0.6.1)\n",
      "Requirement already satisfied: pluggy<2.0,>=0.12 in /environment/miniconda3/lib/python3.7/site-packages (from pytest->-r requirements/tests.txt (line 7)) (1.0.0)\n",
      "Requirement already satisfied: attrs>=19.2.0 in /environment/miniconda3/lib/python3.7/site-packages (from pytest->-r requirements/tests.txt (line 7)) (21.2.0)\n",
      "Collecting py>=1.8.2\n",
      "  Downloading https://pypi.tuna.tsinghua.edu.cn/packages/f6/f0/10642828a8dfb741e5f3fbaac830550a518a775c7fff6f04a007259b0548/py-1.11.0-py2.py3-none-any.whl (98 kB)\n",
      "\u001b[K     |████████████████████████████████| 98 kB 90.2 MB/s  eta 0:00:01\n",
      "\u001b[?25hCollecting iniconfig\n",
      "  Downloading https://pypi.tuna.tsinghua.edu.cn/packages/9b/dd/b3c12c6d707058fa947864b67f0c4e0c39ef8610988d7baea9578f3c48f3/iniconfig-1.1.1-py2.py3-none-any.whl (5.0 kB)\n",
      "Requirement already satisfied: zipp>=0.5 in /environment/miniconda3/lib/python3.7/site-packages (from importlib-metadata->flake8->-r requirements/tests.txt (line 3)) (3.6.0)\n",
      "Collecting ordered-set\n",
      "  Downloading https://pypi.tuna.tsinghua.edu.cn/packages/33/55/af02708f230eb77084a299d7b08175cff006dea4f2721074b92cdb0296c0/ordered_set-4.1.0-py3-none-any.whl (7.6 kB)\n",
      "Installing collected packages: py, ordered-set, iniconfig, coverage, ubelt, pytest, xdoctest, pytest-runner, pytest-cov, lmdb, lanms-neo, kwarray, imgaug, codecov, asynctest\n",
      "Successfully installed asynctest-0.13.0 codecov-2.1.12 coverage-6.3.2 imgaug-0.4.0 iniconfig-1.1.1 kwarray-0.6.0 lanms-neo-1.0.2 lmdb-1.3.0 ordered-set-4.1.0 py-1.11.0 pytest-7.1.1 pytest-cov-3.0.0 pytest-runner-6.0.0 ubelt-1.0.1 xdoctest-1.0.0\n",
      "Using pip 21.1.3 from /environment/miniconda3/lib/python3.7/site-packages/pip (python 3.7)\n",
      "Non-user install because site-packages writeable\n",
      "Created temporary directory: /tmp/pip-ephem-wheel-cache-gis7gk2o\n",
      "Created temporary directory: /tmp/pip-req-tracker-jq2__y2e\n",
      "Initialized build tracking at /tmp/pip-req-tracker-jq2__y2e\n",
      "Created build tracker: /tmp/pip-req-tracker-jq2__y2e\n",
      "Entered build tracker: /tmp/pip-req-tracker-jq2__y2e\n",
      "Created temporary directory: /tmp/pip-install-axp13f2d\n",
      "Looking in indexes: https://pypi.tuna.tsinghua.edu.cn/simple\n",
      "Obtaining file:///home/featurize/work/MMOCR%E6%95%99%E7%A8%8B/0327/mmocr\n",
      "  Added file:///home/featurize/work/MMOCR%E6%95%99%E7%A8%8B/0327/mmocr to build tracker '/tmp/pip-req-tracker-jq2__y2e'\n",
      "    Running setup.py (path:/home/featurize/work/MMOCR教程/0327/mmocr/setup.py) egg_info for package from file:///home/featurize/work/MMOCR%E6%95%99%E7%A8%8B/0327/mmocr\n",
      "    Created temporary directory: /tmp/pip-pip-egg-info-uelju_h_\n",
      "    Running command python setup.py egg_info\n",
      "    running egg_info\n",
      "    creating /tmp/pip-pip-egg-info-uelju_h_/mmocr.egg-info\n",
      "    writing /tmp/pip-pip-egg-info-uelju_h_/mmocr.egg-info/PKG-INFO\n",
      "    writing dependency_links to /tmp/pip-pip-egg-info-uelju_h_/mmocr.egg-info/dependency_links.txt\n",
      "    writing requirements to /tmp/pip-pip-egg-info-uelju_h_/mmocr.egg-info/requires.txt\n",
      "    writing top-level names to /tmp/pip-pip-egg-info-uelju_h_/mmocr.egg-info/top_level.txt\n",
      "    writing manifest file '/tmp/pip-pip-egg-info-uelju_h_/mmocr.egg-info/SOURCES.txt'\n",
      "    reading manifest template 'MANIFEST.in'\n",
      "    warning: no files found matching 'mmocr/.mim/model-index.yml'\n",
      "    warning: no files found matching '*.py' under directory 'mmocr/.mim/configs'\n",
      "    warning: no files found matching '*.yml' under directory 'mmocr/.mim/configs'\n",
      "    warning: no files found matching '*.sh' under directory 'mmocr/.mim/tools'\n",
      "    warning: no files found matching '*.py' under directory 'mmocr/.mim/tools'\n",
      "    writing manifest file '/tmp/pip-pip-egg-info-uelju_h_/mmocr.egg-info/SOURCES.txt'\n",
      "  Source in /home/featurize/work/MMOCR教程/0327/mmocr has version 0.4.1, which satisfies requirement mmocr==0.4.1 from file:///home/featurize/work/MMOCR%E6%95%99%E7%A8%8B/0327/mmocr\n",
      "  Removed mmocr==0.4.1 from file:///home/featurize/work/MMOCR%E6%95%99%E7%A8%8B/0327/mmocr from build tracker '/tmp/pip-req-tracker-jq2__y2e'\n",
      "Requirement already satisfied: imgaug in /environment/miniconda3/lib/python3.7/site-packages (from mmocr==0.4.1) (0.4.0)\n",
      "Requirement already satisfied: lanms-neo==1.0.2 in /environment/miniconda3/lib/python3.7/site-packages (from mmocr==0.4.1) (1.0.2)\n",
      "Requirement already satisfied: lmdb in /environment/miniconda3/lib/python3.7/site-packages (from mmocr==0.4.1) (1.3.0)\n",
      "Requirement already satisfied: matplotlib in /environment/miniconda3/lib/python3.7/site-packages (from mmocr==0.4.1) (3.5.0)\n",
      "Requirement already satisfied: numba>=0.45.1 in /environment/miniconda3/lib/python3.7/site-packages (from mmocr==0.4.1) (0.55.1)\n",
      "Requirement already satisfied: numpy in /environment/miniconda3/lib/python3.7/site-packages (from mmocr==0.4.1) (1.21.4)\n",
      "Requirement already satisfied: opencv-python-headless<=4.5.4.60 in /environment/miniconda3/lib/python3.7/site-packages (from mmocr==0.4.1) (4.5.4.60)\n",
      "Requirement already satisfied: pyclipper in /environment/miniconda3/lib/python3.7/site-packages (from mmocr==0.4.1) (1.3.0.post2)\n",
      "Requirement already satisfied: pycocotools<=2.0.2 in /environment/miniconda3/lib/python3.7/site-packages (from mmocr==0.4.1) (2.0.2)\n",
      "Requirement already satisfied: rapidfuzz in /environment/miniconda3/lib/python3.7/site-packages (from mmocr==0.4.1) (2.0.7)\n",
      "Requirement already satisfied: scikit-image in /environment/miniconda3/lib/python3.7/site-packages (from mmocr==0.4.1) (0.19.0)\n",
      "Requirement already satisfied: six in /environment/miniconda3/lib/python3.7/site-packages (from mmocr==0.4.1) (1.16.0)\n",
      "Requirement already satisfied: terminaltables in /environment/miniconda3/lib/python3.7/site-packages (from mmocr==0.4.1) (3.1.10)\n",
      "Requirement already satisfied: llvmlite<0.39,>=0.38.0rc1 in /environment/miniconda3/lib/python3.7/site-packages (from numba>=0.45.1->mmocr==0.4.1) (0.38.0)\n",
      "Requirement already satisfied: setuptools in /environment/miniconda3/lib/python3.7/site-packages (from numba>=0.45.1->mmocr==0.4.1) (52.0.0.post20210125)\n",
      "Requirement already satisfied: cython>=0.27.3 in /environment/miniconda3/lib/python3.7/site-packages (from pycocotools<=2.0.2->mmocr==0.4.1) (0.29.28)\n",
      "Requirement already satisfied: fonttools>=4.22.0 in /environment/miniconda3/lib/python3.7/site-packages (from matplotlib->mmocr==0.4.1) (4.28.3)\n",
      "Requirement already satisfied: pillow>=6.2.0 in /environment/miniconda3/lib/python3.7/site-packages (from matplotlib->mmocr==0.4.1) (8.4.0)\n",
      "Requirement already satisfied: setuptools-scm>=4 in /environment/miniconda3/lib/python3.7/site-packages (from matplotlib->mmocr==0.4.1) (6.3.2)\n",
      "Requirement already satisfied: cycler>=0.10 in /environment/miniconda3/lib/python3.7/site-packages (from matplotlib->mmocr==0.4.1) (0.11.0)\n",
      "Requirement already satisfied: pyparsing>=2.2.1 in /environment/miniconda3/lib/python3.7/site-packages (from matplotlib->mmocr==0.4.1) (3.0.6)\n",
      "Requirement already satisfied: python-dateutil>=2.7 in /environment/miniconda3/lib/python3.7/site-packages (from matplotlib->mmocr==0.4.1) (2.8.2)\n",
      "Requirement already satisfied: packaging>=20.0 in /environment/miniconda3/lib/python3.7/site-packages (from matplotlib->mmocr==0.4.1) (21.3)\n",
      "Requirement already satisfied: kiwisolver>=1.0.1 in /environment/miniconda3/lib/python3.7/site-packages (from matplotlib->mmocr==0.4.1) (1.3.2)\n",
      "Requirement already satisfied: tomli>=1.0.0 in /environment/miniconda3/lib/python3.7/site-packages (from setuptools-scm>=4->matplotlib->mmocr==0.4.1) (1.2.2)\n",
      "Requirement already satisfied: Shapely in /environment/miniconda3/lib/python3.7/site-packages (from imgaug->mmocr==0.4.1) (1.8.1.post1)\n",
      "Requirement already satisfied: imageio in /environment/miniconda3/lib/python3.7/site-packages (from imgaug->mmocr==0.4.1) (2.13.3)\n",
      "Requirement already satisfied: opencv-python in /environment/miniconda3/lib/python3.7/site-packages (from imgaug->mmocr==0.4.1) (4.5.4.60)\n",
      "Requirement already satisfied: scipy in /environment/miniconda3/lib/python3.7/site-packages (from imgaug->mmocr==0.4.1) (1.7.3)\n",
      "Requirement already satisfied: networkx>=2.2 in /environment/miniconda3/lib/python3.7/site-packages (from scikit-image->mmocr==0.4.1) (2.6.3)\n",
      "Requirement already satisfied: PyWavelets>=1.1.1 in /environment/miniconda3/lib/python3.7/site-packages (from scikit-image->mmocr==0.4.1) (1.2.0)\n",
      "Requirement already satisfied: tifffile>=2019.7.26 in /environment/miniconda3/lib/python3.7/site-packages (from scikit-image->mmocr==0.4.1) (2021.11.2)\n",
      "Requirement already satisfied: jarowinkler<1.1.0,>=1.0.2 in /environment/miniconda3/lib/python3.7/site-packages (from rapidfuzz->mmocr==0.4.1) (1.0.2)\n",
      "Created temporary directory: /tmp/pip-unpack-25bv0cjh\n",
      "Installing collected packages: mmocr\n",
      "  Running setup.py develop for mmocr\n",
      "    Running command /environment/miniconda3/bin/python -c 'import io, os, sys, setuptools, tokenize; sys.argv[0] = '\"'\"'/home/featurize/work/MMOCR教程/0327/mmocr/setup.py'\"'\"'; __file__='\"'\"'/home/featurize/work/MMOCR教程/0327/mmocr/setup.py'\"'\"';f = getattr(tokenize, '\"'\"'open'\"'\"', open)(__file__) if os.path.exists(__file__) else io.StringIO('\"'\"'from setuptools import setup; setup()'\"'\"');code = f.read().replace('\"'\"'\\r\\n'\"'\"', '\"'\"'\\n'\"'\"');f.close();exec(compile(code, __file__, '\"'\"'exec'\"'\"'))' develop --no-deps\n",
      "    running develop\n",
      "    running egg_info\n",
      "    creating mmocr.egg-info\n",
      "    writing mmocr.egg-info/PKG-INFO\n",
      "    writing dependency_links to mmocr.egg-info/dependency_links.txt\n",
      "    writing requirements to mmocr.egg-info/requires.txt\n",
      "    writing top-level names to mmocr.egg-info/top_level.txt\n",
      "    writing manifest file 'mmocr.egg-info/SOURCES.txt'\n",
      "    reading manifest template 'MANIFEST.in'\n",
      "    writing manifest file 'mmocr.egg-info/SOURCES.txt'\n",
      "    running build_ext\n",
      "    Creating /environment/miniconda3/lib/python3.7/site-packages/mmocr.egg-link (link to .)\n",
      "    Adding mmocr 0.4.1 to easy-install.pth file\n",
      "\n",
      "    Installed /home/featurize/work/MMOCR教程/0327/mmocr\n",
      "Successfully installed mmocr-0.4.1\n",
      "Removed build tracker: '/tmp/pip-req-tracker-jq2__y2e'\n"
     ]
    }
   ],
   "source": [
    "!pip install -r requirements.txt\n",
    "!pip install -v -e ."
   ]
  },
  {
   "cell_type": "markdown",
   "id": "d83f225e-512f-4afc-9b53-f65a7d50d072",
   "metadata": {},
   "source": [
    "## 下载稍后用于代码讲解的图像素材"
   ]
  },
  {
   "cell_type": "code",
   "execution_count": 6,
   "id": "18c21327-9be2-4762-a947-587a5793c0ed",
   "metadata": {},
   "outputs": [
    {
     "name": "stdout",
     "output_type": "stream",
     "text": [
      "--2022-03-28 10:24:38--  https://download.openmmlab.com/mmocr/tutorial/highway.jpg\n",
      "Connecting to 172.16.0.13:5848... connected.\n",
      "Proxy request sent, awaiting response... 200 OK\n",
      "Length: 154977 (151K) [image/jpeg]\n",
      "Saving to: ‘demo/highway.jpg’\n",
      "\n",
      "demo/highway.jpg    100%[===================>] 151.34K  --.-KB/s    in 0.02s   \n",
      "\n",
      "2022-03-28 10:24:38 (8.01 MB/s) - ‘demo/highway.jpg’ saved [154977/154977]\n",
      "\n",
      "--2022-03-28 10:24:38--  https://download.openmmlab.com/mmocr/tutorial/python-logo.png\n",
      "Connecting to 172.16.0.13:5848... connected.\n",
      "Proxy request sent, awaiting response... 200 OK\n",
      "Length: 83564 (82K) [image/png]\n",
      "Saving to: ‘demo/python-logo.png’\n",
      "\n",
      "demo/python-logo.pn 100%[===================>]  81.61K  --.-KB/s    in 0.007s  \n",
      "\n",
      "2022-03-28 10:24:38 (10.7 MB/s) - ‘demo/python-logo.png’ saved [83564/83564]\n",
      "\n"
     ]
    }
   ],
   "source": [
    "# 如果遇到 SSL Network Error等网络问题，重新运行一遍即可\n",
    "\n",
    "!wget https://download.openmmlab.com/mmocr/tutorial/highway.jpg -O demo/highway.jpg\n",
    "\n",
    "!wget https://download.openmmlab.com/mmocr/tutorial/python-logo.png -O demo/python-logo.png"
   ]
  },
  {
   "cell_type": "markdown",
   "id": "92bd845d-d076-403e-8241-6faa44565fbb",
   "metadata": {},
   "source": [
    "## 检查是否安装成功"
   ]
  },
  {
   "cell_type": "code",
   "execution_count": 4,
   "id": "13566bbd-027d-47f3-8752-4c8aa12c0a70",
   "metadata": {},
   "outputs": [],
   "source": [
    "# 导入工具包\n",
    "import torch, torchvision\n",
    "\n",
    "import mmcv\n",
    "from mmcv.ops import get_compiling_cuda_version, get_compiler_version\n",
    "\n",
    "import mmdet\n",
    "\n",
    "import mmocr"
   ]
  },
  {
   "cell_type": "code",
   "execution_count": 5,
   "id": "644acda2-876d-4b8a-ad24-418257aca51a",
   "metadata": {},
   "outputs": [
    {
     "name": "stderr",
     "output_type": "stream",
     "text": [
      "/environment/miniconda3/lib/python3.7/site-packages/mmdet/datasets/pipelines/formating.py:7: UserWarning: DeprecationWarning: mmdet.datasets.pipelines.formating will be deprecated, please replace it with mmdet.datasets.pipelines.formatting.\n",
      "  warnings.warn('DeprecationWarning: mmdet.datasets.pipelines.formating will be '\n"
     ]
    },
    {
     "name": "stdout",
     "output_type": "stream",
     "text": [
      "load checkpoint from http path: https://download.openmmlab.com/mmocr/textrecog/sar/sar_r31_parallel_decoder_academic-dba3a4a3.pth\n"
     ]
    },
    {
     "name": "stderr",
     "output_type": "stream",
     "text": [
      "Downloading: \"https://download.openmmlab.com/mmocr/textrecog/sar/sar_r31_parallel_decoder_academic-dba3a4a3.pth\" to /home/featurize/.cache/torch/hub/checkpoints/sar_r31_parallel_decoder_academic-dba3a4a3.pth\n"
     ]
    },
    {
     "data": {
      "application/vnd.jupyter.widget-view+json": {
       "model_id": "2df40d9e8ed44d76aa0d5f572f8f9307",
       "version_major": 2,
       "version_minor": 0
      },
      "text/plain": [
       "  0%|          | 0.00/219M [00:00<?, ?B/s]"
      ]
     },
     "metadata": {},
     "output_type": "display_data"
    },
    {
     "name": "stdout",
     "output_type": "stream",
     "text": [
      "mmocr载入成功！\n"
     ]
    },
    {
     "name": "stderr",
     "output_type": "stream",
     "text": [
      "/home/featurize/work/MMOCR教程/0327/mmocr/mmocr/apis/inference.py:50: UserWarning: Class names are not saved in the checkpoint's meta data, use COCO classes by default.\n",
      "  warnings.warn('Class names are not saved in the checkpoint\\'s '\n"
     ]
    }
   ],
   "source": [
    "from mmocr.utils.ocr import MMOCR\n",
    "mmocr = MMOCR(det=None, recog='SAR', device='cpu')\n",
    "print('mmocr载入成功！')"
   ]
  },
  {
   "cell_type": "markdown",
   "id": "34254935-5d77-4129-8df2-cd652999e8f0",
   "metadata": {},
   "source": [
    "如果代码没有中断报错，模型权重下载完成，且最后输出“mmocr载入成功！”\n",
    "\n",
    "则说明 mmocr 安装成功，可以开始后续的代码实战了！"
   ]
  }
 ],
 "metadata": {
  "kernelspec": {
   "display_name": "Python 3 (ipykernel)",
   "language": "python",
   "name": "python3"
  },
  "language_info": {
   "codemirror_mode": {
    "name": "ipython",
    "version": 3
   },
   "file_extension": ".py",
   "mimetype": "text/x-python",
   "name": "python",
   "nbconvert_exporter": "python",
   "pygments_lexer": "ipython3",
   "version": "3.7.10"
  }
 },
 "nbformat": 4,
 "nbformat_minor": 5
}
