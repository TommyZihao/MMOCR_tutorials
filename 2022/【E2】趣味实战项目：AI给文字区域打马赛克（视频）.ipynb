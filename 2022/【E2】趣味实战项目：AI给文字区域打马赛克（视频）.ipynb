{
 "cells": [
  {
   "cell_type": "markdown",
   "id": "b082e1b0-9bc1-43b0-80a8-baa7f84217f9",
   "metadata": {},
   "source": [
    "# 趣味实战项目：AI 给文字区域打马赛克（视频）\n",
    "\n",
    "解析文本区域检测器的结果，用 OpenCV 将文字区域打上马赛克。\n",
    "\n",
    "指定输入视频路径，对视频中每一帧进行 OCR 和马赛克处理，输出打了马赛克的新视频。\n"
   ]
  },
  {
   "cell_type": "markdown",
   "id": "0e4c5abe",
   "metadata": {
    "tags": []
   },
   "source": [
    "## 进入MMOCR 主目录"
   ]
  },
  {
   "cell_type": "code",
   "execution_count": 1,
   "id": "dd915209",
   "metadata": {},
   "outputs": [
    {
     "data": {
      "text/plain": [
       "['.git',\n",
       " '.circleci',\n",
       " '.codespellrc',\n",
       " '.coveragerc',\n",
       " '.github',\n",
       " '.gitignore',\n",
       " '.owners.yml',\n",
       " '.pre-commit-config.yaml',\n",
       " '.pylintrc',\n",
       " '.readthedocs.yml',\n",
       " 'CITATION.cff',\n",
       " 'LICENSE',\n",
       " 'MANIFEST.in',\n",
       " 'README.md',\n",
       " 'README_zh-CN.md',\n",
       " 'configs',\n",
       " 'demo',\n",
       " 'docker',\n",
       " 'docs',\n",
       " 'mmocr',\n",
       " 'model-index.yml',\n",
       " 'requirements.txt',\n",
       " 'requirements',\n",
       " 'resources',\n",
       " 'setup.cfg',\n",
       " 'setup.py',\n",
       " 'tests',\n",
       " 'tools',\n",
       " 'mmocr.egg-info',\n",
       " 'data',\n",
       " 'font.TTF',\n",
       " 'INFO',\n",
       " 'outputs']"
      ]
     },
     "execution_count": 1,
     "metadata": {},
     "output_type": "execute_result"
    }
   ],
   "source": [
    "import os\n",
    "os.chdir('mmocr')\n",
    "os.listdir()"
   ]
  },
  {
   "cell_type": "markdown",
   "id": "b2c7b785",
   "metadata": {},
   "source": [
    "# 导入工具包"
   ]
  },
  {
   "cell_type": "code",
   "execution_count": 2,
   "id": "70af46f8",
   "metadata": {},
   "outputs": [
    {
     "name": "stderr",
     "output_type": "stream",
     "text": [
      "/environment/miniconda3/lib/python3.7/site-packages/mmdet/datasets/pipelines/formating.py:7: UserWarning: DeprecationWarning: mmdet.datasets.pipelines.formating will be deprecated, please replace it with mmdet.datasets.pipelines.formatting.\n",
      "  warnings.warn('DeprecationWarning: mmdet.datasets.pipelines.formating will be '\n"
     ]
    },
    {
     "name": "stdout",
     "output_type": "stream",
     "text": [
      "load checkpoint from http path: https://download.openmmlab.com/mmocr/textdet/textsnake/textsnake_r50_fpn_unet_1200e_ctw1500-27f65b64.pth\n"
     ]
    }
   ],
   "source": [
    "import numpy as np\n",
    "\n",
    "# 导入 opencv-python\n",
    "import cv2\n",
    "\n",
    "from mmocr.utils.ocr import MMOCR\n",
    "\n",
    "detector = MMOCR(det='TextSnake',  # 文本区域检测算法 \n",
    "                 recog=None,       # 文本内容识别算法，这里不指定\n",
    "                 device='cuda')     # 指定运算设备为 cpu 或 cuda"
   ]
  },
  {
   "cell_type": "markdown",
   "id": "900620b5-c71e-44bc-9014-d147db120cbe",
   "metadata": {},
   "source": [
    "# 处理单帧的函数"
   ]
  },
  {
   "cell_type": "code",
   "execution_count": 4,
   "id": "cd317cb1-5b1e-4645-8938-016ca213a28f",
   "metadata": {},
   "outputs": [],
   "source": [
    "def process_frame(img):\n",
    "    result = detector.readtext(img, output=None)\n",
    "\n",
    "    for each in result[0]['boundary_result']: # 遍历每个文字区域\n",
    "        if each[-1] > 0.2: # 置信度阈值\n",
    "            point_coords = np.array(each[:-1]).reshape(-1,2)\n",
    "            point_coords = np.array([point_coords], dtype = np.int32)\n",
    "            cv2.fillPoly(img, point_coords, (0,255,0)) # 多边形填充\n",
    "        else:\n",
    "            print('有一片文字区域置信度为{:.2f}，小于阈值，不打码'.format(each[-1]))\n",
    "    return img"
   ]
  },
  {
   "cell_type": "markdown",
   "id": "89b31dd9",
   "metadata": {},
   "source": [
    "# 视频逐帧处理（代码模板）¶"
   ]
  },
  {
   "cell_type": "code",
   "execution_count": 5,
   "id": "04036f73",
   "metadata": {},
   "outputs": [],
   "source": [
    "# 视频逐帧处理代码模板\n",
    "# 不需修改任何代码，只需定义 process_frame 函数即可\n",
    "from tqdm import tqdm\n",
    "\n",
    "def generate_video(input_path='data/three-hands.mp4', output_path='data/output.mp4'):\n",
    "    \n",
    "    print('视频开始处理',input_path)\n",
    "    \n",
    "    # 获取视频总帧数\n",
    "    cap = cv2.VideoCapture(input_path)\n",
    "    frame_count = 0\n",
    "    while(cap.isOpened()):\n",
    "        success, frame = cap.read()\n",
    "        frame_count += 1\n",
    "        if not success:\n",
    "            break\n",
    "    cap.release()\n",
    "    print('视频总帧数为',frame_count)\n",
    "    \n",
    "    cap = cv2.VideoCapture(input_path)\n",
    "    frame_size = (cap.get(cv2.CAP_PROP_FRAME_WIDTH), cap.get(cv2.CAP_PROP_FRAME_HEIGHT))\n",
    "\n",
    "    fourcc = cv2.VideoWriter_fourcc(*'mp4v')\n",
    "    fps = cap.get(cv2.CAP_PROP_FPS)\n",
    "\n",
    "    out = cv2.VideoWriter(output_path, fourcc, fps, (int(frame_size[0]), int(frame_size[1])))\n",
    "    \n",
    "    # 进度条绑定视频总帧数\n",
    "    with tqdm(total=frame_count-1) as pbar:\n",
    "        try:\n",
    "            while(cap.isOpened()):\n",
    "                success, frame = cap.read()\n",
    "                if not success:\n",
    "                    break\n",
    "\n",
    "                # 处理帧\n",
    "                try:\n",
    "                    frame = process_frame(frame)\n",
    "                except Exception as e:\n",
    "                    print(e)\n",
    "                    pass\n",
    "                \n",
    "                if success == True:\n",
    "                    out.write(frame)\n",
    "\n",
    "                    # 进度条更新一帧\n",
    "                    pbar.update(1)\n",
    "\n",
    "        except:\n",
    "            print('中途中断')\n",
    "            pass\n",
    "\n",
    "    cv2.destroyAllWindows()\n",
    "    out.release()\n",
    "    cap.release()\n",
    "    print('视频已保存', output_path)"
   ]
  },
  {
   "cell_type": "markdown",
   "id": "3f7a518b-6276-42ad-b5d7-b0480dfd14a0",
   "metadata": {},
   "source": [
    "# 下载用于测试的视频素材"
   ]
  },
  {
   "cell_type": "code",
   "execution_count": 6,
   "id": "f0006fef-22e7-42ab-b7cf-ef52bb73f555",
   "metadata": {},
   "outputs": [
    {
     "name": "stdout",
     "output_type": "stream",
     "text": [
      "--2022-03-28 12:59:21--  https://download.openmmlab.com/mmocr/tutorial/test.mp4\n",
      "Connecting to 172.16.0.13:5848... connected.\n",
      "Proxy request sent, awaiting response... 200 OK\n",
      "Length: 7222265 (6.9M) [video/mp4]\n",
      "Saving to: ‘data/test.mp4’\n",
      "\n",
      "data/test.mp4       100%[===================>]   6.89M  --.-KB/s    in 0.07s   \n",
      "\n",
      "2022-03-28 12:59:21 (99.3 MB/s) - ‘data/test.mp4’ saved [7222265/7222265]\n",
      "\n"
     ]
    }
   ],
   "source": [
    "!wget https://download.openmmlab.com/mmocr/tutorial/test.mp4 -O data/test.mp4"
   ]
  },
  {
   "cell_type": "markdown",
   "id": "07e4ab91-2adc-4c23-8795-44be21a8159c",
   "metadata": {},
   "source": [
    "# 在视频上执行预测"
   ]
  },
  {
   "cell_type": "code",
   "execution_count": 7,
   "id": "c04cdd30",
   "metadata": {},
   "outputs": [
    {
     "name": "stdout",
     "output_type": "stream",
     "text": [
      "视频开始处理 data/test.mp4\n",
      "视频总帧数为 78\n"
     ]
    },
    {
     "name": "stderr",
     "output_type": "stream",
     "text": [
      "  0%|          | 0/77 [00:00<?, ?it/s]/environment/miniconda3/lib/python3.7/site-packages/mmdet/datasets/utils.py:70: UserWarning: \"ImageToTensor\" pipeline is replaced by \"DefaultFormatBundle\" for batch inference. It is recommended to manually replace it in the test data pipeline in your config file.\n",
      "  'data pipeline in your config file.', UserWarning)\n",
      "100%|██████████| 77/77 [01:42<00:00,  1.33s/it]"
     ]
    },
    {
     "name": "stdout",
     "output_type": "stream",
     "text": [
      "视频已保存 outputs/output.mp4\n"
     ]
    },
    {
     "name": "stderr",
     "output_type": "stream",
     "text": [
      "\n"
     ]
    }
   ],
   "source": [
    "generate_video(input_path='data/test.mp4', output_path='outputs/output.mp4')"
   ]
  }
 ],
 "metadata": {
  "kernelspec": {
   "display_name": "Python 3 (ipykernel)",
   "language": "python",
   "name": "python3"
  },
  "language_info": {
   "codemirror_mode": {
    "name": "ipython",
    "version": 3
   },
   "file_extension": ".py",
   "mimetype": "text/x-python",
   "name": "python",
   "nbconvert_exporter": "python",
   "pygments_lexer": "ipython3",
   "version": "3.7.10"
  }
 },
 "nbformat": 4,
 "nbformat_minor": 5
}
